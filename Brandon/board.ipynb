{
 "cells": [
  {
   "cell_type": "markdown",
   "metadata": {},
   "source": [
    "## Analyzing how complexity of a board game correlates with its rating.\n"
   ]
  },
  {
   "cell_type": "code",
   "execution_count": 12,
   "metadata": {},
   "outputs": [],
   "source": [
    "import pandas as pd\n",
    "import matplotlib.pyplot as plt\n",
    "import seaborn as sns\n",
    "from sklearn.linear_model import LinearRegression\n",
    "import numpy as np\n",
    "df = pd.read_csv('bgg_dataset_board.csv', delimiter= ';')"
   ]
  },
  {
   "cell_type": "code",
   "execution_count": 13,
   "metadata": {},
   "outputs": [],
   "source": [
    "df = df.drop(columns=['ID', 'Name', 'Year Published', 'Mechanics', 'Domains'])"
   ]
  },
  {
   "cell_type": "code",
   "execution_count": 14,
   "metadata": {},
   "outputs": [
    {
     "name": "stdout",
     "output_type": "stream",
     "text": [
      "Min Players            0\n",
      "Max Players            0\n",
      "Play Time              0\n",
      "Min Age                0\n",
      "Users Rated            0\n",
      "Rating Average         0\n",
      "BGG Rank               0\n",
      "Complexity Average     0\n",
      "Owned Users           23\n",
      "dtype: int64\n"
     ]
    }
   ],
   "source": [
    "print(df.isnull().sum())"
   ]
  },
  {
   "cell_type": "code",
   "execution_count": 50,
   "metadata": {},
   "outputs": [],
   "source": [
    "df = df.dropna(subset=['Complexity Average', 'Rating Average'])\n",
    "df['Complexity Average'] = pd.to_numeric(df['Complexity Average'])\n",
    "df['Rating Average'] = pd.to_numeric(df['Rating Average'])"
   ]
  },
  {
   "cell_type": "code",
   "execution_count": 17,
   "metadata": {},
   "outputs": [],
   "source": [
    "df = df.dropna(subset=['Complexity Average', 'Rating Average'])"
   ]
  },
  {
   "cell_type": "code",
   "execution_count": 21,
   "metadata": {},
   "outputs": [
    {
     "data": {
      "text/html": [
       "<div>\n",
       "<style scoped>\n",
       "    .dataframe tbody tr th:only-of-type {\n",
       "        vertical-align: middle;\n",
       "    }\n",
       "\n",
       "    .dataframe tbody tr th {\n",
       "        vertical-align: top;\n",
       "    }\n",
       "\n",
       "    .dataframe thead th {\n",
       "        text-align: right;\n",
       "    }\n",
       "</style>\n",
       "<table border=\"1\" class=\"dataframe\">\n",
       "  <thead>\n",
       "    <tr style=\"text-align: right;\">\n",
       "      <th></th>\n",
       "      <th>Min Players</th>\n",
       "      <th>Max Players</th>\n",
       "      <th>Play Time</th>\n",
       "      <th>Min Age</th>\n",
       "      <th>Users Rated</th>\n",
       "      <th>Rating Average</th>\n",
       "      <th>BGG Rank</th>\n",
       "      <th>Complexity Average</th>\n",
       "      <th>Owned Users</th>\n",
       "    </tr>\n",
       "  </thead>\n",
       "  <tbody>\n",
       "    <tr>\n",
       "      <th>count</th>\n",
       "      <td>10.000000</td>\n",
       "      <td>10.000000</td>\n",
       "      <td>10.000000</td>\n",
       "      <td>10.000000</td>\n",
       "      <td>10.000000</td>\n",
       "      <td>10.000000</td>\n",
       "      <td>10.000000</td>\n",
       "      <td>10.000000</td>\n",
       "      <td>10.000000</td>\n",
       "    </tr>\n",
       "    <tr>\n",
       "      <th>mean</th>\n",
       "      <td>2.300000</td>\n",
       "      <td>4.300000</td>\n",
       "      <td>33.000000</td>\n",
       "      <td>9.200000</td>\n",
       "      <td>40.900000</td>\n",
       "      <td>6.000000</td>\n",
       "      <td>14760.900000</td>\n",
       "      <td>1.200000</td>\n",
       "      <td>86.400000</td>\n",
       "    </tr>\n",
       "    <tr>\n",
       "      <th>std</th>\n",
       "      <td>0.674949</td>\n",
       "      <td>2.406011</td>\n",
       "      <td>29.925834</td>\n",
       "      <td>4.211096</td>\n",
       "      <td>9.971626</td>\n",
       "      <td>1.333333</td>\n",
       "      <td>3015.616666</td>\n",
       "      <td>1.135292</td>\n",
       "      <td>39.814012</td>\n",
       "    </tr>\n",
       "    <tr>\n",
       "      <th>min</th>\n",
       "      <td>2.000000</td>\n",
       "      <td>0.000000</td>\n",
       "      <td>0.000000</td>\n",
       "      <td>0.000000</td>\n",
       "      <td>30.000000</td>\n",
       "      <td>3.000000</td>\n",
       "      <td>10573.000000</td>\n",
       "      <td>0.000000</td>\n",
       "      <td>25.000000</td>\n",
       "    </tr>\n",
       "    <tr>\n",
       "      <th>25%</th>\n",
       "      <td>2.000000</td>\n",
       "      <td>2.500000</td>\n",
       "      <td>11.250000</td>\n",
       "      <td>7.250000</td>\n",
       "      <td>32.750000</td>\n",
       "      <td>6.000000</td>\n",
       "      <td>12992.250000</td>\n",
       "      <td>0.250000</td>\n",
       "      <td>56.500000</td>\n",
       "    </tr>\n",
       "    <tr>\n",
       "      <th>50%</th>\n",
       "      <td>2.000000</td>\n",
       "      <td>4.500000</td>\n",
       "      <td>25.000000</td>\n",
       "      <td>9.000000</td>\n",
       "      <td>40.000000</td>\n",
       "      <td>6.000000</td>\n",
       "      <td>14879.000000</td>\n",
       "      <td>1.000000</td>\n",
       "      <td>83.000000</td>\n",
       "    </tr>\n",
       "    <tr>\n",
       "      <th>75%</th>\n",
       "      <td>2.000000</td>\n",
       "      <td>6.000000</td>\n",
       "      <td>56.250000</td>\n",
       "      <td>12.000000</td>\n",
       "      <td>46.500000</td>\n",
       "      <td>6.750000</td>\n",
       "      <td>15694.250000</td>\n",
       "      <td>1.750000</td>\n",
       "      <td>110.000000</td>\n",
       "    </tr>\n",
       "    <tr>\n",
       "      <th>max</th>\n",
       "      <td>4.000000</td>\n",
       "      <td>8.000000</td>\n",
       "      <td>90.000000</td>\n",
       "      <td>14.000000</td>\n",
       "      <td>61.000000</td>\n",
       "      <td>8.000000</td>\n",
       "      <td>19929.000000</td>\n",
       "      <td>3.000000</td>\n",
       "      <td>145.000000</td>\n",
       "    </tr>\n",
       "  </tbody>\n",
       "</table>\n",
       "</div>"
      ],
      "text/plain": [
       "       Min Players  Max Players  Play Time    Min Age  Users Rated  \\\n",
       "count    10.000000    10.000000  10.000000  10.000000    10.000000   \n",
       "mean      2.300000     4.300000  33.000000   9.200000    40.900000   \n",
       "std       0.674949     2.406011  29.925834   4.211096     9.971626   \n",
       "min       2.000000     0.000000   0.000000   0.000000    30.000000   \n",
       "25%       2.000000     2.500000  11.250000   7.250000    32.750000   \n",
       "50%       2.000000     4.500000  25.000000   9.000000    40.000000   \n",
       "75%       2.000000     6.000000  56.250000  12.000000    46.500000   \n",
       "max       4.000000     8.000000  90.000000  14.000000    61.000000   \n",
       "\n",
       "       Rating Average      BGG Rank  Complexity Average  Owned Users  \n",
       "count       10.000000     10.000000           10.000000    10.000000  \n",
       "mean         6.000000  14760.900000            1.200000    86.400000  \n",
       "std          1.333333   3015.616666            1.135292    39.814012  \n",
       "min          3.000000  10573.000000            0.000000    25.000000  \n",
       "25%          6.000000  12992.250000            0.250000    56.500000  \n",
       "50%          6.000000  14879.000000            1.000000    83.000000  \n",
       "75%          6.750000  15694.250000            1.750000   110.000000  \n",
       "max          8.000000  19929.000000            3.000000   145.000000  "
      ]
     },
     "execution_count": 21,
     "metadata": {},
     "output_type": "execute_result"
    }
   ],
   "source": [
    "df.describe()"
   ]
  },
  {
   "cell_type": "code",
   "execution_count": 18,
   "metadata": {},
   "outputs": [
    {
     "data": {
      "image/png": "[encoded data removed]",
      "text/plain": [
       "<Figure size 1000x600 with 1 Axes>"
      ]
     },
     "metadata": {},
     "output_type": "display_data"
    }
   ],
   "source": [
    "plt.figure(figsize=(10, 6))\n",
    "sns.scatterplot(x='Complexity Average', y='Rating Average', data=df, alpha=0.6)\n",
    "plt.title('Complexity vs. Rating of Board Games')\n",
    "plt.xlabel('Complexity Average')\n",
    "plt.ylabel('Rating Average')\n",
    "plt.grid(True)\n",
    "plt.show()"
   ]
  },
  {
   "cell_type": "code",
   "execution_count": 22,
   "metadata": {},
   "outputs": [
    {
     "data": {
      "text/html": [
       "<style>#sk-container-id-1 {color: black;background-color: white;}#sk-container-id-1 pre{padding: 0;}#sk-container-id-1 div.sk-toggleable {background-color: white;}#sk-container-id-1 label.sk-toggleable__label {cursor: pointer;display: block;width: 100%;margin-bottom: 0;padding: 0.3em;box-sizing: border-box;text-align: center;}#sk-container-id-1 label.sk-toggleable__label-arrow:before {content: \"▸\";float: left;margin-right: 0.25em;color: #696969;}#sk-container-id-1 label.sk-toggleable__label-arrow:hover:before {color: black;}#sk-container-id-1 div.sk-estimator:hover label.sk-toggleable__label-arrow:before {color: black;}#sk-container-id-1 div.sk-toggleable__content {max-height: 0;max-width: 0;overflow: hidden;text-align: left;background-color: #f0f8ff;}#sk-container-id-1 div.sk-toggleable__content pre {margin: 0.2em;color: black;border-radius: 0.25em;background-color: #f0f8ff;}#sk-container-id-1 input.sk-toggleable__control:checked~div.sk-toggleable__content {max-height: 200px;max-width: 100%;overflow: auto;}#sk-container-id-1 input.sk-toggleable__control:checked~label.sk-toggleable__label-arrow:before {content: \"▾\";}#sk-container-id-1 div.sk-estimator input.sk-toggleable__control:checked~label.sk-toggleable__label {background-color: #d4ebff;}#sk-container-id-1 div.sk-label input.sk-toggleable__control:checked~label.sk-toggleable__label {background-color: #d4ebff;}#sk-container-id-1 input.sk-hidden--visually {border: 0;clip: rect(1px 1px 1px 1px);clip: rect(1px, 1px, 1px, 1px);height: 1px;margin: -1px;overflow: hidden;padding: 0;position: absolute;width: 1px;}#sk-container-id-1 div.sk-estimator {font-family: monospace;background-color: #f0f8ff;border: 1px dotted black;border-radius: 0.25em;box-sizing: border-box;margin-bottom: 0.5em;}#sk-container-id-1 div.sk-estimator:hover {background-color: #d4ebff;}#sk-container-id-1 div.sk-parallel-item::after {content: \"\";width: 100%;border-bottom: 1px solid gray;flex-grow: 1;}#sk-container-id-1 div.sk-label:hover label.sk-toggleable__label {background-color: #d4ebff;}#sk-container-id-1 div.sk-serial::before {content: \"\";position: absolute;border-left: 1px solid gray;box-sizing: border-box;top: 0;bottom: 0;left: 50%;z-index: 0;}#sk-container-id-1 div.sk-serial {display: flex;flex-direction: column;align-items: center;background-color: white;padding-right: 0.2em;padding-left: 0.2em;position: relative;}#sk-container-id-1 div.sk-item {position: relative;z-index: 1;}#sk-container-id-1 div.sk-parallel {display: flex;align-items: stretch;justify-content: center;background-color: white;position: relative;}#sk-container-id-1 div.sk-item::before, #sk-container-id-1 div.sk-parallel-item::before {content: \"\";position: absolute;border-left: 1px solid gray;box-sizing: border-box;top: 0;bottom: 0;left: 50%;z-index: -1;}#sk-container-id-1 div.sk-parallel-item {display: flex;flex-direction: column;z-index: 1;position: relative;background-color: white;}#sk-container-id-1 div.sk-parallel-item:first-child::after {align-self: flex-end;width: 50%;}#sk-container-id-1 div.sk-parallel-item:last-child::after {align-self: flex-start;width: 50%;}#sk-container-id-1 div.sk-parallel-item:only-child::after {width: 0;}#sk-container-id-1 div.sk-dashed-wrapped {border: 1px dashed gray;margin: 0 0.4em 0.5em 0.4em;box-sizing: border-box;padding-bottom: 0.4em;background-color: white;}#sk-container-id-1 div.sk-label label {font-family: monospace;font-weight: bold;display: inline-block;line-height: 1.2em;}#sk-container-id-1 div.sk-label-container {text-align: center;}#sk-container-id-1 div.sk-container {/* jupyter's `normalize.less` sets `[hidden] { display: none; }` but bootstrap.min.css set `[hidden] { display: none !important; }` so we also need the `!important` here to be able to override the default hidden behavior on the sphinx rendered scikit-learn.org. See: https://github.com/scikit-learn/scikit-learn/issues/21755 */display: inline-block !important;position: relative;}#sk-container-id-1 div.sk-text-repr-fallback {display: none;}</style><div id=\"sk-container-id-1\" class=\"sk-top-container\"><div class=\"sk-text-repr-fallback\"><pre>LinearRegression()</pre><b>In a Jupyter environment, please rerun this cell to show the HTML representation or trust the notebook. <br />On GitHub, the HTML representation is unable to render, please try loading this page with nbviewer.org.</b></div><div class=\"sk-container\" hidden><div class=\"sk-item\"><div class=\"sk-estimator sk-toggleable\"><input class=\"sk-toggleable__control sk-hidden--visually\" id=\"sk-estimator-id-1\" type=\"checkbox\" checked><label for=\"sk-estimator-id-1\" class=\"sk-toggleable__label sk-toggleable__label-arrow\">LinearRegression</label><div class=\"sk-toggleable__content\"><pre>LinearRegression()</pre></div></div></div></div></div>"
      ],
      "text/plain": [
       "LinearRegression()"
      ]
     },
     "execution_count": 22,
     "metadata": {},
     "output_type": "execute_result"
    }
   ],
   "source": [
    "X = df[['Complexity Average']].values  \n",
    "y = df['Rating Average'].values        \n",
    "\n",
    "# Fitting the linear regression model\n",
    "model = LinearRegression()\n",
    "model.fit(X, y)"
   ]
  },
  {
   "cell_type": "code",
   "execution_count": 23,
   "metadata": {},
   "outputs": [
    {
     "name": "stdout",
     "output_type": "stream",
     "text": [
      "Slope: 0.7758620689655169\n",
      "Intercept: 5.06896551724138\n"
     ]
    }
   ],
   "source": [
    "slope = model.coef_[0]\n",
    "intercept = model.intercept_\n",
    "print(f\"Slope: {slope}\")\n",
    "print(f\"Intercept: {intercept}\")"
   ]
  },
  {
   "cell_type": "code",
   "execution_count": 68,
   "metadata": {},
   "outputs": [
    {
     "data": {
      "image/png": "[encoded data removed]",
      "text/plain": [
       "<Figure size 1000x600 with 1 Axes>"
      ]
     },
     "metadata": {},
     "output_type": "display_data"
    }
   ],
   "source": [
    "plt.figure(figsize=(10, 6))\n",
    "sns.scatterplot(x='Complexity Average', y='Rating Average', data=df, alpha=0.6)\n",
    "plt.plot(df['Complexity Average'], model.predict(X), color='green', linewidth=3)\n",
    "\n",
    "plt.title('Complexity vs. Rating of Board Games')\n",
    "plt.xlabel('Complexity Average')\n",
    "plt.ylabel('Rating Average')\n",
    "plt.grid(True)\n",
    "plt.show()"
   ]
  },
  {
   "cell_type": "code",
   "execution_count": 26,
   "metadata": {},
   "outputs": [
    {
     "name": "stdout",
     "output_type": "stream",
     "text": [
      "R-squared: 0.44\n"
     ]
    }
   ],
   "source": [
    "r_squared = model.score(X, y)\n",
    "print(f\"R-squared: {r_squared:.2f}\")"
   ]
  },
  {
   "cell_type": "markdown",
   "metadata": {},
   "source": [
    "## Predict the average rating of a board game based on features such as players,playtime, and complexity"
   ]
  },
  {
   "cell_type": "code",
   "execution_count": 93,
   "metadata": {},
   "outputs": [],
   "source": [
    "df2 = pd.read_csv('bgg_dataset_board.csv', delimiter=';')"
   ]
  },
  {
   "cell_type": "code",
   "execution_count": 96,
   "metadata": {},
   "outputs": [
    {
     "name": "stdout",
     "output_type": "stream",
     "text": [
      "<class 'pandas.core.frame.DataFrame'>\n",
      "RangeIndex: 20343 entries, 0 to 20342\n",
      "Data columns (total 14 columns):\n",
      " #   Column              Non-Null Count  Dtype  \n",
      "---  ------              --------------  -----  \n",
      " 0   ID                  20327 non-null  float64\n",
      " 1   Name                20343 non-null  object \n",
      " 2   Year Published      20342 non-null  float64\n",
      " 3   Min Players         20343 non-null  int64  \n",
      " 4   Max Players         20343 non-null  int64  \n",
      " 5   Play Time           20343 non-null  int64  \n",
      " 6   Min Age             20343 non-null  int64  \n",
      " 7   Users Rated         20343 non-null  int64  \n",
      " 8   Rating Average      20343 non-null  object \n",
      " 9   BGG Rank            20343 non-null  int64  \n",
      " 10  Complexity Average  20343 non-null  object \n",
      " 11  Owned Users         20320 non-null  float64\n",
      " 12  Mechanics           18745 non-null  object \n",
      " 13  Domains             10184 non-null  object \n",
      "dtypes: float64(3), int64(6), object(5)\n",
      "memory usage: 2.2+ MB\n"
     ]
    }
   ],
   "source": [
    "df2.info()"
   ]
  },
  {
   "cell_type": "code",
   "execution_count": 97,
   "metadata": {},
   "outputs": [],
   "source": [
    "df_cleaned = df2.drop(columns=['ID', 'Name', 'Year Published', 'BGG Rank', 'Rating Average', 'Users Rated', 'Owned Users'])"
   ]
  },
  {
   "cell_type": "code",
   "execution_count": 102,
   "metadata": {},
   "outputs": [
    {
     "data": {
      "text/plain": [
       "Min Players           0\n",
       "Max Players           0\n",
       "Play Time             0\n",
       "Min Age               0\n",
       "Complexity Average    0\n",
       "Mechanics             0\n",
       "Domains               0\n",
       "dtype: int64"
      ]
     },
     "execution_count": 102,
     "metadata": {},
     "output_type": "execute_result"
    }
   ],
   "source": [
    "df_cleaned.isnull().sum()"
   ]
  },
  {
   "cell_type": "code",
   "execution_count": 99,
   "metadata": {},
   "outputs": [],
   "source": [
    "df_cleaned.fillna(df_cleaned.median(numeric_only=True), inplace=True)\n",
    "df_cleaned.fillna('Unknown', inplace=True)"
   ]
  },
  {
   "cell_type": "code",
   "execution_count": 103,
   "metadata": {},
   "outputs": [
    {
     "data": {
      "text/plain": [
       "Min Players           0\n",
       "Max Players           0\n",
       "Play Time             0\n",
       "Min Age               0\n",
       "Complexity Average    0\n",
       "Mechanics             0\n",
       "Domains               0\n",
       "dtype: int64"
      ]
     },
     "execution_count": 103,
     "metadata": {},
     "output_type": "execute_result"
    }
   ],
   "source": [
    "df_cleaned.isnull().sum()"
   ]
  },
  {
   "cell_type": "code",
   "execution_count": 104,
   "metadata": {},
   "outputs": [],
   "source": [
    "df_cleaned = pd.get_dummies(df_cleaned, columns=['Mechanics', 'Domains'], drop_first=True)"
   ]
  },
  {
   "cell_type": "code",
   "execution_count": 106,
   "metadata": {},
   "outputs": [
    {
     "data": {
      "text/plain": [
       "(20343, 7425)"
      ]
     },
     "execution_count": 106,
     "metadata": {},
     "output_type": "execute_result"
    }
   ],
   "source": [
    "df_cleaned.shape"
   ]
  },
  {
   "cell_type": "code",
   "execution_count": 107,
   "metadata": {},
   "outputs": [],
   "source": [
    "from sklearn.preprocessing import StandardScaler\n",
    "\n",
    "# Select numeric columns to scale\n",
    "numeric_cols = ['Min Players', 'Max Players', 'Play Time', 'Min Age']"
   ]
  },
  {
   "cell_type": "code",
   "execution_count": 108,
   "metadata": {},
   "outputs": [],
   "source": [
    "scaler = StandardScaler()\n",
    "df_cleaned[numeric_cols] = scaler.fit_transform(df_cleaned[numeric_cols])"
   ]
  },
  {
   "cell_type": "code",
   "execution_count": 109,
   "metadata": {},
   "outputs": [
    {
     "data": {
      "text/html": [
       "<div>\n",
       "<style scoped>\n",
       "    .dataframe tbody tr th:only-of-type {\n",
       "        vertical-align: middle;\n",
       "    }\n",
       "\n",
       "    .dataframe tbody tr th {\n",
       "        vertical-align: top;\n",
       "    }\n",
       "\n",
       "    .dataframe thead th {\n",
       "        text-align: right;\n",
       "    }\n",
       "</style>\n",
       "<table border=\"1\" class=\"dataframe\">\n",
       "  <thead>\n",
       "    <tr style=\"text-align: right;\">\n",
       "      <th></th>\n",
       "      <th>Min Players</th>\n",
       "      <th>Max Players</th>\n",
       "      <th>Play Time</th>\n",
       "      <th>Min Age</th>\n",
       "      <th>Complexity Average</th>\n",
       "      <th>Mechanics_Acting, Action Points, Betting and Bluffing, Card Drafting, Commodity Speculation, Dice Rolling, Hand Management, Memory, Push Your Luck, Role Playing, Set Collection, Storytelling, Team-Based Game, Trading, Variable Player Powers</th>\n",
       "      <th>Mechanics_Acting, Action Queue</th>\n",
       "      <th>Mechanics_Acting, Area Majority / Influence, Deck Bag and Pool Building, Dice Rolling, Trading, Voting, Worker Placement</th>\n",
       "      <th>Mechanics_Acting, Area Movement, Card Drafting, Player Elimination</th>\n",
       "      <th>Mechanics_Acting, Area Movement, Role Playing, Team-Based Game, Variable Player Powers</th>\n",
       "      <th>...</th>\n",
       "      <th>Domains_Party Games, Thematic Games</th>\n",
       "      <th>Domains_Party Games, Wargames</th>\n",
       "      <th>Domains_Strategy Games</th>\n",
       "      <th>Domains_Strategy Games, Thematic Games</th>\n",
       "      <th>Domains_Strategy Games, Thematic Games, Wargames</th>\n",
       "      <th>Domains_Strategy Games, Wargames</th>\n",
       "      <th>Domains_Thematic Games</th>\n",
       "      <th>Domains_Thematic Games, Wargames</th>\n",
       "      <th>Domains_Unknown</th>\n",
       "      <th>Domains_Wargames</th>\n",
       "    </tr>\n",
       "  </thead>\n",
       "  <tbody>\n",
       "    <tr>\n",
       "      <th>0</th>\n",
       "      <td>-1.477097</td>\n",
       "      <td>-0.109791</td>\n",
       "      <td>0.052629</td>\n",
       "      <td>1.206604</td>\n",
       "      <td>3,86</td>\n",
       "      <td>False</td>\n",
       "      <td>False</td>\n",
       "      <td>False</td>\n",
       "      <td>False</td>\n",
       "      <td>False</td>\n",
       "      <td>...</td>\n",
       "      <td>False</td>\n",
       "      <td>False</td>\n",
       "      <td>False</td>\n",
       "      <td>True</td>\n",
       "      <td>False</td>\n",
       "      <td>False</td>\n",
       "      <td>False</td>\n",
       "      <td>False</td>\n",
       "      <td>False</td>\n",
       "      <td>False</td>\n",
       "    </tr>\n",
       "    <tr>\n",
       "      <th>1</th>\n",
       "      <td>-0.028554</td>\n",
       "      <td>-0.109791</td>\n",
       "      <td>-0.057376</td>\n",
       "      <td>0.932283</td>\n",
       "      <td>2,84</td>\n",
       "      <td>False</td>\n",
       "      <td>False</td>\n",
       "      <td>False</td>\n",
       "      <td>False</td>\n",
       "      <td>False</td>\n",
       "      <td>...</td>\n",
       "      <td>False</td>\n",
       "      <td>False</td>\n",
       "      <td>False</td>\n",
       "      <td>True</td>\n",
       "      <td>False</td>\n",
       "      <td>False</td>\n",
       "      <td>False</td>\n",
       "      <td>False</td>\n",
       "      <td>False</td>\n",
       "      <td>False</td>\n",
       "    </tr>\n",
       "    <tr>\n",
       "      <th>2</th>\n",
       "      <td>-0.028554</td>\n",
       "      <td>-0.109791</td>\n",
       "      <td>0.052629</td>\n",
       "      <td>1.206604</td>\n",
       "      <td>3,91</td>\n",
       "      <td>False</td>\n",
       "      <td>False</td>\n",
       "      <td>False</td>\n",
       "      <td>False</td>\n",
       "      <td>False</td>\n",
       "      <td>...</td>\n",
       "      <td>False</td>\n",
       "      <td>False</td>\n",
       "      <td>True</td>\n",
       "      <td>False</td>\n",
       "      <td>False</td>\n",
       "      <td>False</td>\n",
       "      <td>False</td>\n",
       "      <td>False</td>\n",
       "      <td>False</td>\n",
       "      <td>False</td>\n",
       "    </tr>\n",
       "    <tr>\n",
       "      <th>3</th>\n",
       "      <td>-1.477097</td>\n",
       "      <td>-0.044135</td>\n",
       "      <td>0.052629</td>\n",
       "      <td>0.657962</td>\n",
       "      <td>3,24</td>\n",
       "      <td>False</td>\n",
       "      <td>False</td>\n",
       "      <td>False</td>\n",
       "      <td>False</td>\n",
       "      <td>False</td>\n",
       "      <td>...</td>\n",
       "      <td>False</td>\n",
       "      <td>False</td>\n",
       "      <td>True</td>\n",
       "      <td>False</td>\n",
       "      <td>False</td>\n",
       "      <td>False</td>\n",
       "      <td>False</td>\n",
       "      <td>False</td>\n",
       "      <td>False</td>\n",
       "      <td>False</td>\n",
       "    </tr>\n",
       "    <tr>\n",
       "      <th>4</th>\n",
       "      <td>1.419990</td>\n",
       "      <td>0.021520</td>\n",
       "      <td>0.712654</td>\n",
       "      <td>1.206604</td>\n",
       "      <td>4,22</td>\n",
       "      <td>False</td>\n",
       "      <td>False</td>\n",
       "      <td>False</td>\n",
       "      <td>False</td>\n",
       "      <td>False</td>\n",
       "      <td>...</td>\n",
       "      <td>False</td>\n",
       "      <td>False</td>\n",
       "      <td>False</td>\n",
       "      <td>True</td>\n",
       "      <td>False</td>\n",
       "      <td>False</td>\n",
       "      <td>False</td>\n",
       "      <td>False</td>\n",
       "      <td>False</td>\n",
       "      <td>False</td>\n",
       "    </tr>\n",
       "  </tbody>\n",
       "</table>\n",
       "<p>5 rows × 7425 columns</p>\n",
       "</div>"
      ],
      "text/plain": [
       "   Min Players  Max Players  Play Time   Min Age Complexity Average  \\\n",
       "0    -1.477097    -0.109791   0.052629  1.206604               3,86   \n",
       "1    -0.028554    -0.109791  -0.057376  0.932283               2,84   \n",
       "2    -0.028554    -0.109791   0.052629  1.206604               3,91   \n",
       "3    -1.477097    -0.044135   0.052629  0.657962               3,24   \n",
       "4     1.419990     0.021520   0.712654  1.206604               4,22   \n",
       "\n",
       "   Mechanics_Acting, Action Points, Betting and Bluffing, Card Drafting, Commodity Speculation, Dice Rolling, Hand Management, Memory, Push Your Luck, Role Playing, Set Collection, Storytelling, Team-Based Game, Trading, Variable Player Powers  \\\n",
       "0                                              False                                                                                                                                                                                                  \n",
       "1                                              False                                                                                                                                                                                                  \n",
       "2                                              False                                                                                                                                                                                                  \n",
       "3                                              False                                                                                                                                                                                                  \n",
       "4                                              False                                                                                                                                                                                                  \n",
       "\n",
       "   Mechanics_Acting, Action Queue  \\\n",
       "0                           False   \n",
       "1                           False   \n",
       "2                           False   \n",
       "3                           False   \n",
       "4                           False   \n",
       "\n",
       "   Mechanics_Acting, Area Majority / Influence, Deck Bag and Pool Building, Dice Rolling, Trading, Voting, Worker Placement  \\\n",
       "0                                              False                                                                          \n",
       "1                                              False                                                                          \n",
       "2                                              False                                                                          \n",
       "3                                              False                                                                          \n",
       "4                                              False                                                                          \n",
       "\n",
       "   Mechanics_Acting, Area Movement, Card Drafting, Player Elimination  \\\n",
       "0                                              False                    \n",
       "1                                              False                    \n",
       "2                                              False                    \n",
       "3                                              False                    \n",
       "4                                              False                    \n",
       "\n",
       "   Mechanics_Acting, Area Movement, Role Playing, Team-Based Game, Variable Player Powers  \\\n",
       "0                                              False                                        \n",
       "1                                              False                                        \n",
       "2                                              False                                        \n",
       "3                                              False                                        \n",
       "4                                              False                                        \n",
       "\n",
       "   ...  Domains_Party Games, Thematic Games  Domains_Party Games, Wargames  \\\n",
       "0  ...                                False                          False   \n",
       "1  ...                                False                          False   \n",
       "2  ...                                False                          False   \n",
       "3  ...                                False                          False   \n",
       "4  ...                                False                          False   \n",
       "\n",
       "   Domains_Strategy Games  Domains_Strategy Games, Thematic Games  \\\n",
       "0                   False                                    True   \n",
       "1                   False                                    True   \n",
       "2                    True                                   False   \n",
       "3                    True                                   False   \n",
       "4                   False                                    True   \n",
       "\n",
       "   Domains_Strategy Games, Thematic Games, Wargames  \\\n",
       "0                                             False   \n",
       "1                                             False   \n",
       "2                                             False   \n",
       "3                                             False   \n",
       "4                                             False   \n",
       "\n",
       "   Domains_Strategy Games, Wargames  Domains_Thematic Games  \\\n",
       "0                             False                   False   \n",
       "1                             False                   False   \n",
       "2                             False                   False   \n",
       "3                             False                   False   \n",
       "4                             False                   False   \n",
       "\n",
       "   Domains_Thematic Games, Wargames  Domains_Unknown  Domains_Wargames  \n",
       "0                             False            False             False  \n",
       "1                             False            False             False  \n",
       "2                             False            False             False  \n",
       "3                             False            False             False  \n",
       "4                             False            False             False  \n",
       "\n",
       "[5 rows x 7425 columns]"
      ]
     },
     "execution_count": 109,
     "metadata": {},
     "output_type": "execute_result"
    }
   ],
   "source": [
    "df_cleaned.head()"
   ]
  },
  {
   "cell_type": "code",
   "execution_count": 110,
   "metadata": {},
   "outputs": [
    {
     "name": "stdout",
     "output_type": "stream",
     "text": [
      "Final DataFrame shape: (20343, 7425)\n",
      "Final DataFrame columns: Index(['Min Players', 'Max Players', 'Play Time', 'Min Age',\n",
      "       'Complexity Average',\n",
      "       'Mechanics_Acting, Action Points, Betting and Bluffing, Card Drafting, Commodity Speculation, Dice Rolling, Hand Management, Memory, Push Your Luck, Role Playing, Set Collection, Storytelling, Team-Based Game, Trading, Variable Player Powers',\n",
      "       'Mechanics_Acting, Action Queue',\n",
      "       'Mechanics_Acting, Area Majority / Influence, Deck Bag and Pool Building, Dice Rolling, Trading, Voting, Worker Placement',\n",
      "       'Mechanics_Acting, Area Movement, Card Drafting, Player Elimination',\n",
      "       'Mechanics_Acting, Area Movement, Role Playing, Team-Based Game, Variable Player Powers',\n",
      "       ...\n",
      "       'Domains_Party Games, Thematic Games', 'Domains_Party Games, Wargames',\n",
      "       'Domains_Strategy Games', 'Domains_Strategy Games, Thematic Games',\n",
      "       'Domains_Strategy Games, Thematic Games, Wargames',\n",
      "       'Domains_Strategy Games, Wargames', 'Domains_Thematic Games',\n",
      "       'Domains_Thematic Games, Wargames', 'Domains_Unknown',\n",
      "       'Domains_Wargames'],\n",
      "      dtype='object', length=7425)\n"
     ]
    }
   ],
   "source": [
    "print(\"Final DataFrame shape:\", df_cleaned.shape)\n",
    "print(\"Final DataFrame columns:\", df_cleaned.columns)\n",
    "\n",
    "df_cleaned.to_csv('cleaned_dataset.csv', index=False)"
   ]
  }
 ],
 "metadata": {
  "kernelspec": {
   "display_name": "base",
   "language": "python",
   "name": "python3"
  },
  "language_info": {
   "codemirror_mode": {
    "name": "ipython",
    "version": 3
   },
   "file_extension": ".py",
   "mimetype": "text/x-python",
   "name": "python",
   "nbconvert_exporter": "python",
   "pygments_lexer": "ipython3",
   "version": "3.11.7"
  }
 },
 "nbformat": 4,
 "nbformat_minor": 2
}
