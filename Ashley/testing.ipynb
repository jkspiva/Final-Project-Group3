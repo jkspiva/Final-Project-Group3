{
 "cells": [
  {
   "cell_type": "code",
   "execution_count": 5,
   "metadata": {},
   "outputs": [
    {
     "name": "stdout",
     "output_type": "stream",
     "text": [
      "                                Name  Min Players  Max Players  Play Time  \\\n",
      "0                         Gloomhaven            1            4        120   \n",
      "1          Pandemic Legacy: Season 1            2            4         60   \n",
      "2                  Brass: Birmingham            2            4        120   \n",
      "3                  Terraforming Mars            1            5        120   \n",
      "4  Twilight Imperium: Fourth Edition            3            6        480   \n",
      "\n",
      "   Min Age  Users Rated  Rating Average  Complexity Average  Owned Users  \\\n",
      "0       14        42055            8.79                3.86      68323.0   \n",
      "1       13        41643            8.61                2.84      65294.0   \n",
      "2       14        19217            8.66                3.91      28785.0   \n",
      "3       12        64864            8.43                3.24      87099.0   \n",
      "4       14        13468            8.70                4.22      16831.0   \n",
      "\n",
      "          Domain1  above_average Bayesian Average Most Notable Genre  \\\n",
      "0  Strategy Games           True          8.34764          Adventure   \n",
      "1  Strategy Games           True          8.37666      Environmental   \n",
      "2  Strategy Games           True          8.41236      Age of Reason   \n",
      "3  Strategy Games           True          8.20958           Economic   \n",
      "4  Strategy Games           True           8.2379       Civilization   \n",
      "\n",
      "  Most Notable Mechanic   Price  \n",
      "0          Action Queue      99  \n",
      "1         Action Points    49.5  \n",
      "2       Hand Management     105  \n",
      "3       Closed Drafting    69.9  \n",
      "4       Action Drafting  127.99  \n"
     ]
    }
   ],
   "source": [
    "import pandas as pd\n",
    "\n",
    "# Adjust the delimiter based on your file's structure\n",
    "bgame_df = pd.read_csv('test_board_game_price.csv', delimiter=',')\n",
    "\n",
    "# Display the first few rows\n",
    "print(bgame_df.head())"
   ]
  },
  {
   "cell_type": "code",
   "execution_count": 6,
   "metadata": {},
   "outputs": [
    {
     "data": {
      "text/plain": [
       "20343"
      ]
     },
     "execution_count": 6,
     "metadata": {},
     "output_type": "execute_result"
    }
   ],
   "source": [
    "len(bgame_df)"
   ]
  },
  {
   "cell_type": "code",
   "execution_count": 7,
   "metadata": {},
   "outputs": [
    {
     "name": "stdout",
     "output_type": "stream",
     "text": [
      "<class 'pandas.core.frame.DataFrame'>\n",
      "RangeIndex: 20343 entries, 0 to 20342\n",
      "Data columns (total 15 columns):\n",
      " #   Column                 Non-Null Count  Dtype  \n",
      "---  ------                 --------------  -----  \n",
      " 0   Name                   20343 non-null  object \n",
      " 1   Min Players            20343 non-null  int64  \n",
      " 2   Max Players            20343 non-null  int64  \n",
      " 3   Play Time              20343 non-null  int64  \n",
      " 4   Min Age                20343 non-null  int64  \n",
      " 5   Users Rated            20343 non-null  int64  \n",
      " 6   Rating Average         20343 non-null  float64\n",
      " 7   Complexity Average     20343 non-null  float64\n",
      " 8   Owned Users            20320 non-null  float64\n",
      " 9   Domain1                10184 non-null  object \n",
      " 10  above_average          20343 non-null  bool   \n",
      " 11  Bayesian Average       20127 non-null  object \n",
      " 12  Most Notable Genre     20127 non-null  object \n",
      " 13  Most Notable Mechanic  20127 non-null  object \n",
      " 14  Price                  20127 non-null  object \n",
      "dtypes: bool(1), float64(3), int64(5), object(6)\n",
      "memory usage: 2.2+ MB\n"
     ]
    }
   ],
   "source": [
    "bgame_df.info()"
   ]
  },
  {
   "cell_type": "code",
   "execution_count": 9,
   "metadata": {},
   "outputs": [
    {
     "name": "stdout",
     "output_type": "stream",
     "text": [
      "<class 'pandas.core.frame.DataFrame'>\n",
      "RangeIndex: 20343 entries, 0 to 20342\n",
      "Data columns (total 15 columns):\n",
      " #   Column                 Non-Null Count  Dtype  \n",
      "---  ------                 --------------  -----  \n",
      " 0   Name                   20343 non-null  object \n",
      " 1   Min Players            20343 non-null  int64  \n",
      " 2   Max Players            20343 non-null  int64  \n",
      " 3   Play Time              20343 non-null  int64  \n",
      " 4   Min Age                20343 non-null  int64  \n",
      " 5   Users Rated            20343 non-null  int64  \n",
      " 6   Rating Average         20343 non-null  float64\n",
      " 7   Complexity Average     20343 non-null  float64\n",
      " 8   Owned Users            20320 non-null  float64\n",
      " 9   Domain1                10184 non-null  object \n",
      " 10  above_average          20343 non-null  bool   \n",
      " 11  Bayesian Average       20127 non-null  object \n",
      " 12  Most Notable Genre     20127 non-null  object \n",
      " 13  Most Notable Mechanic  20127 non-null  object \n",
      " 14  Price                  20127 non-null  object \n",
      "dtypes: bool(1), float64(3), int64(5), object(6)\n",
      "memory usage: 2.2+ MB\n"
     ]
    }
   ],
   "source": [
    "bgame_df.info()"
   ]
  },
  {
   "cell_type": "code",
   "execution_count": 13,
   "metadata": {},
   "outputs": [
    {
     "name": "stdout",
     "output_type": "stream",
     "text": [
      "['Strategy Games' 'Thematic Games' 'Family Games' 'Customizable Games'\n",
      " 'Abstract Games' 'Party Games' 'Wargames' \"Children's Games\" nan]\n"
     ]
    }
   ],
   "source": [
    "unique_domain = bgame_df['Domain1'].unique()\n",
    "print(unique_domain)"
   ]
  },
  {
   "cell_type": "code",
   "execution_count": 14,
   "metadata": {},
   "outputs": [
    {
     "name": "stdout",
     "output_type": "stream",
     "text": [
      "['Adventure' 'Environmental' 'Age of Reason' 'Economic' 'Civilization'\n",
      " 'Card Game' 'Civil War' 'Modern Warfare' 'American West' 'Fantasy' 'Dice'\n",
      " 'Ancient' 'Animals' 'Medieval' 'City Building' 'Abstract Strategy'\n",
      " 'Bluffing' 'Action / Dexterity' 'Arabian' 'Industry / Manufacturing'\n",
      " 'Renaissance' 'Deduction' 'Medical' 'Science Fiction' 'Aviation / Flight'\n",
      " 'Exploration' 'Trains' 'Post-Napoleonic' 'Miniatures' 'Wargame'\n",
      " 'Party Game' 'Movies / TV / Radio theme' 'Horror' 'Real-time' 'Racing'\n",
      " nan 'Humor' 'Maze' 'Spies/Secret Agents' 'Collectible Components'\n",
      " 'Nautical' 'Fighting' 'Prehistoric' 'Educational' 'Math' 'Travel'\n",
      " 'Mythology' 'Negotiation' 'Political' \"Children's Game\" 'Napoleonic'\n",
      " 'Farming' 'Transportation' 'Territory Building' 'American Civil War'\n",
      " 'Parsing Error' 'American Indian Wars' 'Comic Book / Strip' 'Mafia'\n",
      " 'Electronic' 'Not available' 'Puzzle' 'Murder/Mystery' 'Novel-based'\n",
      " 'Sports' 'Korean War' 'Print & Play' 'Book' 'American Revolutionary War'\n",
      " 'Religious' 'Video Game Theme' 'Word Game' 'Pike and Shot' 'Number'\n",
      " 'Space Exploration' 'Pirates' 'Memory' 'Trivia' 'Vietnam War'\n",
      " 'Mature / Adult' 'Music' 'World War II' 'Zombies'\n",
      " 'Expansion for Base-game']\n"
     ]
    }
   ],
   "source": [
    "unique_genre = bgame_df['Most Notable Genre'].unique()\n",
    "print(unique_genre)"
   ]
  },
  {
   "cell_type": "code",
   "execution_count": 15,
   "metadata": {},
   "outputs": [
    {
     "name": "stdout",
     "output_type": "stream",
     "text": [
      "['Action Queue' 'Action Points' 'Hand Management' 'Closed Drafting'\n",
      " 'Action Drafting' 'End Game Bonuses' 'Area Majority / Influence'\n",
      " 'Action/Event' 'Deck, Bag, and Pool Building' 'Action Retrieval'\n",
      " 'Dice Rolling' 'Automatic Resource Growth' 'Contracts'\n",
      " 'Campaign / Battle Card Driven' 'Card Play Conflict Resolution'\n",
      " 'Delayed Purchase' 'Area Movement' 'Cooperative Game'\n",
      " 'Auction: Turn Order Until Pass' 'Bias' 'Communication Limits'\n",
      " 'Commodity Speculation' 'Follow' 'Catch the Leader' 'Flicking'\n",
      " 'Auction/Bidding' 'Chit-Pull System' 'Auction: Fixed Placement'\n",
      " 'Enclosure' 'Grid Coverage' 'Bingo' 'Connections' 'Finale Ending'\n",
      " 'Advantage Token' 'Alliances' 'Increase Value of Unchosen Resources'\n",
      " 'Auction: Dutch' 'Events' 'Betting and Bluffing' 'Grid Movement'\n",
      " 'Auction: Once Around' 'Hidden Roles' nan 'Acting' 'Investment'\n",
      " 'Open Drafting' 'Pattern Recognition' 'Hexagon Grid' 'Order Counters'\n",
      " 'Critical Hits and Failures' 'Race' 'Deduction' 'Chaining'\n",
      " 'Point to Point Movement' 'Pick-up and Deliver' 'Highest-Lowest Scoring'\n",
      " 'Drawing' 'Income' 'Tile Placement' 'Loans' 'Push Your Luck'\n",
      " 'Auction: Dutch Priority' 'Hidden Movement' 'Network and Route Building'\n",
      " 'Market' 'Auction Compensation' 'Auction: Sealed Bid' 'Move Through Deck'\n",
      " 'Line Drawing' 'Action Timer' 'Map Addition' 'Set Collection'\n",
      " 'Line of Sight' 'Rock-Paper-Scissors' 'Deck Construction' 'Layering'\n",
      " 'Command Cards' 'Induction' 'Parsing Error' 'Memory' 'Player Elimination'\n",
      " 'Rondel' 'Square Grid' 'Ordering' 'Stacking and Balancing' 'Hot Potato'\n",
      " 'Roles with Asymmetric Information' 'Auction: Multiple Lot'\n",
      " 'Not available' 'Voting' 'Modular Board' 'Cube Tower' 'Bids As Wagers'\n",
      " 'Simultaneous Action Selection' 'Paper-and-Pencil' 'Worker Placement'\n",
      " 'Bribery' 'I Cut, You Choose' 'Pattern Building' 'Solo / Solitaire Game'\n",
      " 'Mancala' 'Multi-Use Cards' 'Scenario / Mission / Campaign Game'\n",
      " 'Team-Based Game' 'Map Deformation' 'Predictive Bid'\n",
      " 'Elapsed Real Time Ending' 'Crayon Rail System' 'Take That'\n",
      " 'Auction: Dexterity' 'Trick-taking' 'Spelling' 'Hidden Victory Points'\n",
      " 'Roll / Spin and Move' 'Variable Player Powers' 'Physical Removal'\n",
      " 'Speed Matching' 'Role Playing' 'Negotiation' 'Area-Impulse'\n",
      " 'Narrative Choice / Paragraph' 'Lose a Turn' 'Real-Time' 'Simulation'\n",
      " 'Secret Unit Deployment' 'Multiple Maps' 'Turn Order: Time Track'\n",
      " 'Different Dice Movement' 'Storytelling' 'Ladder Climbing' 'Trading'\n",
      " 'Closed Economy Auction' 'Matching' 'Melding and Splaying'\n",
      " 'Stock Holding' \"Prisoner's Dilemma\" 'Map Reduction' 'Targeted Clues'\n",
      " 'Legacy Game' 'Player Judge' 'Score-and-Reset Game' 'Slide/Push'\n",
      " 'Variable Phase Order' 'Single Loser Game' 'Semi-Cooperative Game'\n",
      " 'Once-Per-Game Abilities' 'King of the Hill' 'Measurement Movement'\n",
      " 'Movement Template' 'Die Icon Resolution'\n",
      " 'Worker Placement, Different Worker Types' 'Singing' 'Resource to Move'\n",
      " 'Force Commitment' 'Traitor Game' 'Pieces as Map' 'Kill Steal'\n",
      " 'Relative Movement' 'Questions and Answers' 'Passed Action Token'\n",
      " 'Auction: English']\n"
     ]
    }
   ],
   "source": [
    "unique_mechanic = bgame_df['Most Notable Mechanic'].unique()\n",
    "print(unique_mechanic)"
   ]
  },
  {
   "cell_type": "code",
   "execution_count": 30,
   "metadata": {},
   "outputs": [
    {
     "name": "stdout",
     "output_type": "stream",
     "text": [
      "                    Rating Average  Owned Users\n",
      "Domain1                                        \n",
      "Strategy Games            7.028981    7742493.0\n",
      "Wargames                  6.852060    1723997.0\n",
      "Thematic Games            6.839453    3174966.0\n",
      "Family Games              6.424877    8060172.0\n",
      "Customizable Games        6.370102     664351.0\n",
      "Party Games               6.309691    1925037.0\n",
      "Abstract Games            6.230140    1445470.0\n",
      "Children's Games          5.516485     596811.0\n"
     ]
    }
   ],
   "source": [
    "domain_stats = bgame_df.groupby('Domain1').agg({\n",
    "    'Rating Average': 'mean', \n",
    "    'Owned Users': 'sum'\n",
    "}).sort_values(by='Rating Average', ascending=False)\n",
    "\n",
    "# Display the result\n",
    "print(domain_stats)"
   ]
  },
  {
   "cell_type": "code",
   "execution_count": 28,
   "metadata": {},
   "outputs": [
    {
     "name": "stdout",
     "output_type": "stream",
     "text": [
      "                            Rating Average  Owned Users\n",
      "Most Notable Genre                                     \n",
      "Expansion for Base-game           7.461111       3111.0\n",
      "Book                              7.417609      31702.0\n",
      "American Revolutionary War        7.157500       5549.0\n",
      "Miniatures                        7.151044     151635.0\n",
      "Napoleonic                        7.066940      99962.0\n",
      "...                                    ...          ...\n",
      "Movies / TV / Radio theme         5.715728     137968.0\n",
      "Zombies                           5.652000       4462.0\n",
      "Children's Game                   5.577347     390353.0\n",
      "Mature / Adult                    5.451000       9235.0\n",
      "Trivia                            5.413548      15977.0\n",
      "\n",
      "[83 rows x 2 columns]\n"
     ]
    }
   ],
   "source": [
    "genre_stats = bgame_df.groupby('Most Notable Genre').agg({\n",
    "    'Rating Average': 'mean', \n",
    "    'Owned Users': 'sum'\n",
    "}).sort_values(by='Rating Average', ascending=False)\n",
    "\n",
    "# Display the result\n",
    "print(genre_stats)"
   ]
  },
  {
   "cell_type": "code",
   "execution_count": 29,
   "metadata": {},
   "outputs": [
    {
     "name": "stdout",
     "output_type": "stream",
     "text": [
      "                           Rating Average  Owned Users\n",
      "Most Notable Mechanic                                 \n",
      "Die Icon Resolution              7.723333        859.0\n",
      "Automatic Resource Growth        7.647778     185282.0\n",
      "Finale Ending                    7.580000      38202.0\n",
      "Auction: Fixed Placement         7.540000      27843.0\n",
      "Measurement Movement             7.496667       1072.0\n",
      "...                                   ...          ...\n",
      "Single Loser Game                5.323333       3042.0\n",
      "Passed Action Token              5.290000        275.0\n",
      "Roll / Spin and Move             5.226841     207994.0\n",
      "Questions and Answers            5.100000       1509.0\n",
      "Auction: English                 4.680000      41300.0\n",
      "\n",
      "[160 rows x 2 columns]\n"
     ]
    }
   ],
   "source": [
    "mech_stats = bgame_df.groupby('Most Notable Mechanic').agg({\n",
    "    'Rating Average': 'mean', \n",
    "    'Owned Users': 'sum'\n",
    "}).sort_values(by='Rating Average', ascending=False)\n",
    "\n",
    "# Display the result\n",
    "print(mech_stats)"
   ]
  }
 ],
 "metadata": {
  "kernelspec": {
   "display_name": "base",
   "language": "python",
   "name": "python3"
  },
  "language_info": {
   "codemirror_mode": {
    "name": "ipython",
    "version": 3
   },
   "file_extension": ".py",
   "mimetype": "text/x-python",
   "name": "python",
   "nbconvert_exporter": "python",
   "pygments_lexer": "ipython3",
   "version": "3.11.7"
  }
 },
 "nbformat": 4,
 "nbformat_minor": 2
}
